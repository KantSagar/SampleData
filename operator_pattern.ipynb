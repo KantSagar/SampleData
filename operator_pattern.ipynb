{
 "cells": [
  {
   "cell_type": "code",
   "execution_count": 4,
   "metadata": {},
   "outputs": [],
   "source": [
    "from kubernetes import config, dynamic\n",
    "from kubernetes import client as k8s_client\n",
    "from kubernetes.dynamic.exceptions import ResourceNotFoundError\n",
    "from kubernetes.client import api_client\n",
    "import time"
   ]
  },
  {
   "cell_type": "code",
   "execution_count": 60,
   "metadata": {},
   "outputs": [],
   "source": [
    "# client = dynamic.DynamicClient(\n",
    "#         api_client.ApiClient(configuration=config.load_kube_config())\n",
    "#     )\n",
    "\n",
    "#     # fetching the custom resource definition (CRD) api\n",
    "# crd_api = client.resources.get(\n",
    "#     api_version=\"apiextensions.k8s.io/v1\", kind=\"CustomResourceDefinition\"\n",
    "# )\n",
    "\n",
    "# namespace_api = client.resources.get(api_version=\"v1\", kind=\"Namespace\")\n",
    "\n",
    "# print(namespace_api)"
   ]
  },
  {
   "cell_type": "code",
   "execution_count": 19,
   "metadata": {},
   "outputs": [],
   "source": [
    "# !pip install kubernetes"
   ]
  },
  {
   "cell_type": "code",
   "execution_count": 5,
   "metadata": {},
   "outputs": [],
   "source": [
    "def list_ingressroute_for_all_namespaces(group, version, plural):\n",
    "    custom_object_api = k8s_client.CustomObjectsApi()\n",
    "\n",
    "    list_of_ingress_routes = custom_object_api.list_cluster_custom_object(\n",
    "        group, version, plural\n",
    "    )\n",
    "    print(list_of_ingress_routes)\n",
    "    # print(\n",
    "    #     \"%s\\t\\t\\t%s\\t\\t\\t%s\\t\\t%s\\t\\t\\t\\t%s\"\n",
    "    #     % (\"NAME\", \"NAMESPACE\", \"FQDN\", \"TLS\", \"STRATEGY\")\n",
    "    # )\n",
    "    # for item in list_of_ingress_routes[\"items\"]:\n",
    "    #     print(\n",
    "    #         \"%s\\t%s\\t\\t%s\\t%s\\t%s\"\n",
    "    #         % (\n",
    "    #             item[\"metadata\"][\"name\"],\n",
    "    #             item[\"metadata\"][\"namespace\"],\n",
    "    #             item[\"spec\"][\"virtualhost\"][\"fqdn\"],\n",
    "    #             item[\"spec\"][\"virtualhost\"][\"tls\"],\n",
    "    #             item[\"spec\"][\"strategy\"]\n",
    "    #         )\n",
    "    #     )"
   ]
  },
  {
   "cell_type": "code",
   "execution_count": 7,
   "metadata": {},
   "outputs": [],
   "source": [
    "# list_ingressroute_for_all_namespaces(\n",
    "#         group=\"blackadder.io\", version=\"v1betav1\", plural=\"chaosagents\"\n",
    "#     )"
   ]
  },
  {
   "cell_type": "code",
   "execution_count": 15,
   "metadata": {},
   "outputs": [
    {
     "name": "stdout",
     "output_type": "stream",
     "text": [
      "NAME\t\tTANTRUM_MODE\t\tPOD_TOLERANCE\t\tcancerMode\t\tipsumMode\t\teagerness\t\tpauseDuration\n",
      "princeedmund1\tTrue\t\t\t\t10\t\tNone\t\t\tNone\t\t\tNone\t\t\tNone\n",
      "\n",
      "Number of Pod running :  1\n"
     ]
    }
   ],
   "source": [
    "def main():\n",
    "    # Creating a dynamic client\n",
    "    client = dynamic.DynamicClient(\n",
    "        api_client.ApiClient(configuration=config.load_kube_config())\n",
    "    )\n",
    "\n",
    "    # fetching the node api\n",
    "    api = client.resources.get(api_version=\"v1alpha1\", kind=\"ChaosAgent\")\n",
    "    # len(api)\n",
    "\n",
    "    # Listing cluster nodes\n",
    "\n",
    "    print(\"%s\\t\\t%s\\t\\t%s\\t\\t%s\\t\\t%s\\t\\t%s\\t\\t%s\" % (\"NAME\", \"TANTRUM_MODE\", \"POD_TOLERANCE\",\"cancerMode\",\"ipsumMode\",\"eagerness\",\"pauseDuration\"))\n",
    "    for item in api.get().items:\n",
    "        node = api.get(name=item.metadata.name)\n",
    "        \n",
    "        print(\n",
    "            \"%s\\t%s\\t\\t\\t\\t%s\\t\\t%s\\t\\t\\t%s\\t\\t\\t%s\\t\\t\\t%s\\n\"\n",
    "            % (\n",
    "                node.metadata.name,\n",
    "                node.spec.tantrumMode,\n",
    "                node.spec.podTolerance,\n",
    "                node.spec.cancerMode,\n",
    "                node.spec.ipsumMode,\n",
    "                node.spec.eagerness,\n",
    "                node.spec.pauseDuration,\n",
    "                # node.status.conditions[3][\"type\"],\n",
    "                # node.status.nodeInfo.kubeProxyVersion,\n",
    "            )\n",
    "        )\n",
    "    print(\"Number of Pod running : \", len(api.get().items))\n",
    "\n",
    "if __name__ == \"__main__\":\n",
    "    main()"
   ]
  },
  {
   "cell_type": "code",
   "execution_count": 17,
   "metadata": {},
   "outputs": [
    {
     "name": "stdout",
     "output_type": "stream",
     "text": [
      "NAME            TANTRUM   TOLERANCE   CANCER   IPSUM   EAGERNESS   PAUSE   EXCLUDED\n",
      "princeedmund1   true      10          true             20          30      [\"kube-system\"]\n"
     ]
    }
   ],
   "source": [
    "!kubectl get chaosagents.blackadder.io"
   ]
  },
  {
   "cell_type": "code",
   "execution_count": 8,
   "metadata": {},
   "outputs": [],
   "source": [
    "# !pip install pykube"
   ]
  },
  {
   "cell_type": "code",
   "execution_count": 6,
   "metadata": {},
   "outputs": [
    {
     "name": "stdout",
     "output_type": "stream",
     "text": [
      "This is the blackadder version 0.1.1\n",
      "Ready to start a havoc in your cluster\n",
      "Checking default/kube-root-ca.crt\n",
      "Checking kube-node-lease/kube-root-ca.crt\n",
      "Checking kube-public/cluster-info\n",
      "Checking kube-public/kube-root-ca.crt\n",
      "Checking default/kube-root-ca.crt\n",
      "Checking kube-node-lease/kube-root-ca.crt\n",
      "Checking kube-public/cluster-info\n",
      "Checking kube-public/kube-root-ca.crt\n",
      "Checking default/kube-root-ca.crt\n",
      "Checking kube-node-lease/kube-root-ca.crt\n",
      "Checking kube-public/cluster-info\n",
      "Lorem Impsum in kube-public/cluster-info\n",
      "Checking kube-public/kube-root-ca.crt\n",
      "Checking default/kube-root-ca.crt\n",
      "Checking kube-node-lease/kube-root-ca.crt\n",
      "Checking kube-public/cluster-info\n",
      "Lorem Impsum in kube-public/cluster-info\n",
      "Checking kube-public/kube-root-ca.crt\n",
      "Checking default/kube-root-ca.crt\n",
      "Checking kube-node-lease/kube-root-ca.crt\n",
      "Checking kube-public/cluster-info\n",
      "Checking kube-public/kube-root-ca.crt\n",
      "Lorem Impsum in kube-public/kube-root-ca.crt\n",
      "Checking default/kube-root-ca.crt\n",
      "Checking kube-node-lease/kube-root-ca.crt\n",
      "Checking kube-public/cluster-info\n",
      "Checking kube-public/kube-root-ca.crt\n",
      "Checking default/kube-root-ca.crt\n",
      "Checking kube-node-lease/kube-root-ca.crt\n",
      "Checking kube-public/cluster-info\n",
      "Checking kube-public/kube-root-ca.crt\n",
      "Checking default/kube-root-ca.crt\n",
      "Lorem Impsum in default/kube-root-ca.crt\n",
      "Checking kube-node-lease/kube-root-ca.crt\n",
      "Checking kube-public/cluster-info\n",
      "Checking kube-public/kube-root-ca.crt\n",
      "Checking default/kube-root-ca.crt\n",
      "Checking kube-node-lease/kube-root-ca.crt\n",
      "Lorem Impsum in kube-node-lease/kube-root-ca.crt\n",
      "Checking kube-public/cluster-info\n",
      "Checking kube-public/kube-root-ca.crt\n",
      "Checking default/kube-root-ca.crt\n",
      "Checking kube-node-lease/kube-root-ca.crt\n",
      "Checking kube-public/cluster-info\n",
      "Checking kube-public/kube-root-ca.crt\n",
      "Checking default/kube-root-ca.crt\n",
      "Checking kube-node-lease/kube-root-ca.crt\n",
      "Lorem Impsum in kube-node-lease/kube-root-ca.crt\n",
      "Checking kube-public/cluster-info\n",
      "Checking kube-public/kube-root-ca.crt\n",
      "Checking default/kube-root-ca.crt\n",
      "Checking kube-node-lease/kube-root-ca.crt\n",
      "Checking kube-public/cluster-info\n",
      "Checking kube-public/kube-root-ca.crt\n",
      "Checking default/kube-root-ca.crt\n",
      "Checking kube-node-lease/kube-root-ca.crt\n",
      "Checking kube-public/cluster-info\n",
      "Checking kube-public/kube-root-ca.crt\n",
      "Checking default/kube-root-ca.crt\n",
      "Checking kube-node-lease/kube-root-ca.crt\n",
      "Checking kube-public/cluster-info\n",
      "Checking kube-public/kube-root-ca.crt\n",
      "Checking default/kube-root-ca.crt\n",
      "Lorem Impsum in default/kube-root-ca.crt\n",
      "Checking kube-node-lease/kube-root-ca.crt\n",
      "Checking kube-public/cluster-info\n",
      "Checking kube-public/kube-root-ca.crt\n"
     ]
    }
   ],
   "source": [
    "import random\n",
    "import sys\n",
    "import time\n",
    "\n",
    "import lorem\n",
    "import munch\n",
    "import pykube\n",
    "import requests\n",
    "\n",
    "\n",
    "from pykube import Pod, Deployment, ConfigMap\n",
    "\n",
    "\n",
    "def list_objects(self, k8s_obj, exclude_namespaces):\n",
    "\n",
    "    exclude_namespaces = \",\".join(\"metadata.namespace!=\" + ns\n",
    "                                  for ns in exclude_namespaces)\n",
    "    return list(\n",
    "            k8s_obj.objects(api).filter(namespace=pykube.all,\n",
    "                                        field_selector=exclude_namespaces\n",
    "\n",
    "                                        ))\n",
    "\n",
    "\n",
    "config = pykube.KubeConfig.from_env()\n",
    "\n",
    "\n",
    "pykube.HTTPClient.list_objects = list_objects\n",
    "\n",
    "\n",
    "api = pykube.HTTPClient(config)\n",
    "\n",
    "ChaosAgent = pykube.object_factory(api, \"blackadder.io/v1beta1\", \"ChaosAgent\")\n",
    "\n",
    "# retrieves our agent configuraton from the kube-api-server\n",
    "agent = list(ChaosAgent.objects(api, namespace=pykube.all))[0]\n",
    "\n",
    "agent.config = munch.munchify(agent.obj[\"spec\"])\n",
    "\n",
    "exclude_namespaces = agent.config.excludedNamespaces\n",
    "\n",
    "\n",
    "def randomly_kill_pods(pods, tolerance, eagerness):\n",
    "    if len(pods) < tolerance:\n",
    "        return\n",
    "\n",
    "    for p in pods:\n",
    "        if random.randint(0, 100) < eagerness:\n",
    "            p.delete()\n",
    "            print(f\"Deleted {p.namespace}/{p.name}\",)\n",
    "\n",
    "\n",
    "def randomly_scale_deployments(deployments, eagerness):\n",
    "    for d in deployments:\n",
    "        if random.randint(0, 100) < eagerness:\n",
    "            while True:\n",
    "                try:\n",
    "                    if d.replicas < 128:\n",
    "                        d.replicas = min(d.replicas * 2, 128)\n",
    "                    d.update()\n",
    "                    print(f\"scaled {d.namespace}/{d.name} to {d.replicas}\",)\n",
    "                    break\n",
    "                except (requests.exceptions.HTTPError, pykube.exceptions.HTTPError):\n",
    "                    print(\n",
    "                        f\"error scaling {d.namespace}/{d.name} to {d.replicas}\",)\n",
    "                    d.reload()\n",
    "                    continue\n",
    "\n",
    "\n",
    "def randomly_write_configmaps(configmaps, eagerness):\n",
    "    for cm in configmaps:\n",
    "        print(f\"Checking {cm.namespace}/{cm.name}\")\n",
    "        if cm.obj.get(\"immutable\"):\n",
    "            continue\n",
    "\n",
    "        if random.randint(0, 100) < eagerness:\n",
    "            for k, v in cm.obj[\"data\"].items():\n",
    "                cm.obj[\"data\"][k] = lorem.paragraph()\n",
    "\n",
    "            print(f\"Lorem Impsum in {cm.namespace}/{cm.name}\",)\n",
    "\n",
    "\n",
    "def main():\n",
    "    while True:\n",
    "        pods = api.list_objects(Pod, exclude_namespaces)\n",
    "        deployments = api.list_objects(Deployment, exclude_namespaces)\n",
    "        configmaps = api.list_objects(ConfigMap, exclude_namespaces)\n",
    "\n",
    "        if agent.config.tantrumMode:\n",
    "            randomly_kill_pods(pods,\n",
    "                               agent.config.podTolerance,\n",
    "                               agent.config.eagerness)\n",
    "\n",
    "        if agent.config.cancerMode:\n",
    "            randomly_scale_deployments(deployments,\n",
    "                                       agent.config.eagerness)\n",
    "\n",
    "        if agent.config.ipsumMode:\n",
    "            randomly_write_configmaps(configmaps,\n",
    "                                      agent.config.eagerness)\n",
    "\n",
    "        time.sleep(agent.config.pauseDuration)\n",
    "\n",
    "\n",
    "if __name__ == \"__main__\":\n",
    "    print(\"This is the blackadder version 0.1.1\")\n",
    "    print(\"Ready to start a havoc in your cluster\")\n",
    "    main()"
   ]
  },
  {
   "cell_type": "code",
   "execution_count": 5,
   "metadata": {},
   "outputs": [
    {
     "name": "stdout",
     "output_type": "stream",
     "text": [
      "Collecting pykube-ng\n",
      "  Downloading pykube_ng-23.6.0-py3-none-any.whl.metadata (8.0 kB)\n",
      "Requirement already satisfied: pyyaml in c:\\users\\ska641\\appdata\\local\\programs\\python\\python310\\lib\\site-packages (from pykube-ng) (6.0.1)\n",
      "Requirement already satisfied: requests>=2.12 in c:\\users\\ska641\\appdata\\local\\programs\\python\\python310\\lib\\site-packages (from pykube-ng) (2.27.1)\n",
      "Collecting urllib3>=1.26.9 (from pykube-ng)\n",
      "  Downloading urllib3-2.1.0-py3-none-any.whl.metadata (6.4 kB)\n",
      "  Downloading urllib3-1.26.18-py2.py3-none-any.whl.metadata (48 kB)\n",
      "     ---------------------------------------- 0.0/48.9 kB ? eta -:--:--\n",
      "     ------------------------------- ------ 41.0/48.9 kB 991.0 kB/s eta 0:00:01\n",
      "     -------------------------------------- 48.9/48.9 kB 822.8 kB/s eta 0:00:00\n",
      "Requirement already satisfied: certifi>=2017.4.17 in c:\\users\\ska641\\appdata\\local\\programs\\python\\python310\\lib\\site-packages (from requests>=2.12->pykube-ng) (2021.10.8)\n",
      "Requirement already satisfied: charset-normalizer~=2.0.0 in c:\\users\\ska641\\appdata\\local\\programs\\python\\python310\\lib\\site-packages (from requests>=2.12->pykube-ng) (2.0.12)\n",
      "Requirement already satisfied: idna<4,>=2.5 in c:\\users\\ska641\\appdata\\local\\programs\\python\\python310\\lib\\site-packages (from requests>=2.12->pykube-ng) (3.3)\n",
      "Downloading pykube_ng-23.6.0-py3-none-any.whl (26 kB)\n",
      "Downloading urllib3-1.26.18-py2.py3-none-any.whl (143 kB)\n",
      "   ---------------------------------------- 0.0/143.8 kB ? eta -:--:--\n",
      "   ---------------------------------- ----- 122.9/143.8 kB 3.6 MB/s eta 0:00:01\n",
      "   ---------------------------------------- 143.8/143.8 kB 2.1 MB/s eta 0:00:00\n",
      "Installing collected packages: urllib3, pykube-ng\n",
      "  Attempting uninstall: urllib3\n",
      "    Found existing installation: urllib3 1.26.8\n",
      "    Uninstalling urllib3-1.26.8:\n",
      "      Successfully uninstalled urllib3-1.26.8\n",
      "Successfully installed pykube-ng-23.6.0 urllib3-1.26.18\n",
      "Note: you may need to restart the kernel to use updated packages.\n"
     ]
    },
    {
     "name": "stderr",
     "output_type": "stream",
     "text": [
      "WARNING: Ignoring invalid distribution -rotobuf (c:\\users\\ska641\\appdata\\roaming\\python\\python310\\site-packages)\n",
      "WARNING: Ignoring invalid distribution -rotobuf (c:\\users\\ska641\\appdata\\roaming\\python\\python310\\site-packages)\n",
      "WARNING: Ignoring invalid distribution -rotobuf (c:\\users\\ska641\\appdata\\roaming\\python\\python310\\site-packages)\n",
      "    WARNING: Ignoring invalid distribution -rotobuf (c:\\users\\ska641\\appdata\\roaming\\python\\python310\\site-packages)\n",
      "ERROR: pip's dependency resolver does not currently take into account all the packages that are installed. This behaviour is the source of the following dependency conflicts.\n",
      "tensorflow-intel 2.13.0 requires protobuf!=4.21.0,!=4.21.1,!=4.21.2,!=4.21.3,!=4.21.4,!=4.21.5,<5.0.0dev,>=3.20.3, but you have protobuf 3.19.6 which is incompatible.\n",
      "WARNING: Ignoring invalid distribution -rotobuf (c:\\users\\ska641\\appdata\\roaming\\python\\python310\\site-packages)\n",
      "WARNING: Ignoring invalid distribution -rotobuf (c:\\users\\ska641\\appdata\\roaming\\python\\python310\\site-packages)\n",
      "WARNING: Ignoring invalid distribution -rotobuf (c:\\users\\ska641\\appdata\\roaming\\python\\python310\\site-packages)\n"
     ]
    }
   ],
   "source": [
    "pip install pykube-ng"
   ]
  },
  {
   "cell_type": "code",
   "execution_count": 20,
   "metadata": {},
   "outputs": [
    {
     "name": "stdout",
     "output_type": "stream",
     "text": [
      "Requirement already satisfied: pykube-ng in c:\\users\\ska641\\onedrive - maersk group\\documents\\detrox\\.venv\\lib\\site-packages (23.6.0)\n",
      "Requirement already satisfied: pyyaml in c:\\users\\ska641\\onedrive - maersk group\\documents\\detrox\\.venv\\lib\\site-packages (from pykube-ng) (6.0)\n",
      "Requirement already satisfied: requests>=2.12 in c:\\users\\ska641\\onedrive - maersk group\\documents\\detrox\\.venv\\lib\\site-packages (from pykube-ng) (2.31.0)\n",
      "Requirement already satisfied: urllib3>=1.26.9 in c:\\users\\ska641\\onedrive - maersk group\\documents\\detrox\\.venv\\lib\\site-packages (from pykube-ng) (1.26.16)\n",
      "Requirement already satisfied: charset-normalizer<4,>=2 in c:\\users\\ska641\\onedrive - maersk group\\documents\\detrox\\.venv\\lib\\site-packages (from requests>=2.12->pykube-ng) (3.1.0)\n",
      "Requirement already satisfied: idna<4,>=2.5 in c:\\users\\ska641\\onedrive - maersk group\\documents\\detrox\\.venv\\lib\\site-packages (from requests>=2.12->pykube-ng) (3.4)\n",
      "Requirement already satisfied: certifi>=2017.4.17 in c:\\users\\ska641\\onedrive - maersk group\\documents\\detrox\\.venv\\lib\\site-packages (from requests>=2.12->pykube-ng) (2023.5.7)\n"
     ]
    },
    {
     "name": "stderr",
     "output_type": "stream",
     "text": [
      "\n",
      "[notice] A new release of pip is available: 23.1.2 -> 23.3.1\n",
      "[notice] To update, run: python.exe -m pip install --upgrade pip\n"
     ]
    }
   ],
   "source": [
    "!pip install pykube-ng"
   ]
  },
  {
   "cell_type": "code",
   "execution_count": null,
   "metadata": {},
   "outputs": [],
   "source": [
    "pip install pykube-ng\n",
    "pip uninstall pykube-ng\n",
    "pip install pykube\n",
    "pip uninstall pykube"
   ]
  },
  {
   "cell_type": "code",
   "execution_count": 6,
   "metadata": {},
   "outputs": [
    {
     "name": "stdout",
     "output_type": "stream",
     "text": [
      "{'annotations': {'kubectl.kubernetes.io/last-applied-configuration': '{\"apiVersion\":\"blackadder.io/v1alpha1\",\"kind\":\"ChaosAgent\",\"metadata\":{\"annotations\":{},\"name\":\"princeedmund1\"},\"spec\":{\"podTolerance\":10,\"tantrumMode\":true}}\\n'},\n",
      " 'creationTimestamp': '2023-11-24T06:01:37Z',\n",
      " 'generation': 1,\n",
      " 'managedFields': [{'apiVersion': 'blackadder.io/v1alpha1',\n",
      " 'fieldsType': 'FieldsV1',\n",
      " 'fieldsV1': {'f:metadata': {'f:annotations': {'.': {}, 'f:kubectl.kubernetes.io/last-applied-configuration': {}}},\n",
      " 'f:spec': {'.': {}, 'f:podTolerance': {}, 'f:tantrumMode': {}}},\n",
      " 'manager': 'kubectl-client-side-apply',\n",
      " 'operation': 'Update',\n",
      " 'time': '2023-11-24T06:01:37Z'}],\n",
      " 'name': 'princeedmund1',\n",
      " 'resourceVersion': '13470',\n",
      " 'uid': '63559b01-64e3-46f9-843e-75f0e4b5ec11'}\n"
     ]
    }
   ],
   "source": [
    "# Config map\n",
    "# Creating a dynamic client\n",
    "client = dynamic.DynamicClient(\n",
    "    api_client.ApiClient(configuration=config.load_kube_config())\n",
    ")\n",
    "\n",
    "# fetching the node api\n",
    "api = client.resources.get(api_version=\"v1alpha1\", kind=\"ChaosAgent\")\n",
    "for item in api.get().items:\n",
    "    print(item.metadata)"
   ]
  },
  {
   "cell_type": "code",
   "execution_count": 81,
   "metadata": {},
   "outputs": [
    {
     "ename": "ApiException",
     "evalue": "(404)\nReason: Not Found\nHTTP response headers: HTTPHeaderDict({'Audit-Id': '3a969ce9-5ede-46e8-af61-de4a1ef12da3', 'Cache-Control': 'no-cache, private', 'Content-Type': 'application/json', 'X-Kubernetes-Pf-Flowschema-Uid': '2e3c464e-36e2-4c7e-ab3b-65343e80622e', 'X-Kubernetes-Pf-Prioritylevel-Uid': '049503df-5f6a-4ddf-9c8c-b6ba625f396c', 'Date': 'Fri, 24 Nov 2023 11:44:43 GMT', 'Content-Length': '270'})\nHTTP response body: {\"kind\":\"Status\",\"apiVersion\":\"v1\",\"metadata\":{},\"status\":\"Failure\",\"message\":\"chaosagents.blackadder.io \\\"chaosagents.blackadder.io\\\" not found\",\"reason\":\"NotFound\",\"details\":{\"name\":\"chaosagents.blackadder.io\",\"group\":\"blackadder.io\",\"kind\":\"chaosagents\"},\"code\":404}\n\n",
     "output_type": "error",
     "traceback": [
      "\u001b[1;31m---------------------------------------------------------------------------\u001b[0m",
      "\u001b[1;31mApiException\u001b[0m                              Traceback (most recent call last)",
      "\u001b[1;32mc:\\Users\\SKA641\\OneDrive - Maersk Group\\Documents\\Detrox\\src\\operator_pattern.ipynb Cell 8\u001b[0m line \u001b[0;36m6\n\u001b[0;32m      <a href='vscode-notebook-cell:/c%3A/Users/SKA641/OneDrive%20-%20Maersk%20Group/Documents/Detrox/src/operator_pattern.ipynb#X35sZmlsZQ%3D%3D?line=2'>3</a>\u001b[0m config\u001b[39m.\u001b[39mload_kube_config()\n\u001b[0;32m      <a href='vscode-notebook-cell:/c%3A/Users/SKA641/OneDrive%20-%20Maersk%20Group/Documents/Detrox/src/operator_pattern.ipynb#X35sZmlsZQ%3D%3D?line=4'>5</a>\u001b[0m api1 \u001b[39m=\u001b[39m client\u001b[39m.\u001b[39mCustomObjectsApi()\n\u001b[1;32m----> <a href='vscode-notebook-cell:/c%3A/Users/SKA641/OneDrive%20-%20Maersk%20Group/Documents/Detrox/src/operator_pattern.ipynb#X35sZmlsZQ%3D%3D?line=5'>6</a>\u001b[0m resource \u001b[39m=\u001b[39m api1\u001b[39m.\u001b[39;49mget_cluster_custom_object(\n\u001b[0;32m      <a href='vscode-notebook-cell:/c%3A/Users/SKA641/OneDrive%20-%20Maersk%20Group/Documents/Detrox/src/operator_pattern.ipynb#X35sZmlsZQ%3D%3D?line=6'>7</a>\u001b[0m     group\u001b[39m=\u001b[39;49m\u001b[39m\"\u001b[39;49m\u001b[39mblackadder.io\u001b[39;49m\u001b[39m\"\u001b[39;49m,\n\u001b[0;32m      <a href='vscode-notebook-cell:/c%3A/Users/SKA641/OneDrive%20-%20Maersk%20Group/Documents/Detrox/src/operator_pattern.ipynb#X35sZmlsZQ%3D%3D?line=7'>8</a>\u001b[0m     version\u001b[39m=\u001b[39;49m\u001b[39m\"\u001b[39;49m\u001b[39mv1alpha1\u001b[39;49m\u001b[39m\"\u001b[39;49m,\n\u001b[0;32m      <a href='vscode-notebook-cell:/c%3A/Users/SKA641/OneDrive%20-%20Maersk%20Group/Documents/Detrox/src/operator_pattern.ipynb#X35sZmlsZQ%3D%3D?line=8'>9</a>\u001b[0m     name\u001b[39m=\u001b[39;49m\u001b[39m\"\u001b[39;49m\u001b[39mchaosagents.blackadder.io\u001b[39;49m\u001b[39m\"\u001b[39;49m,\n\u001b[0;32m     <a href='vscode-notebook-cell:/c%3A/Users/SKA641/OneDrive%20-%20Maersk%20Group/Documents/Detrox/src/operator_pattern.ipynb#X35sZmlsZQ%3D%3D?line=9'>10</a>\u001b[0m     plural\u001b[39m=\u001b[39;49m\u001b[39m\"\u001b[39;49m\u001b[39mchaosagents\u001b[39;49m\u001b[39m\"\u001b[39;49m,\n\u001b[0;32m     <a href='vscode-notebook-cell:/c%3A/Users/SKA641/OneDrive%20-%20Maersk%20Group/Documents/Detrox/src/operator_pattern.ipynb#X35sZmlsZQ%3D%3D?line=10'>11</a>\u001b[0m )\n\u001b[0;32m     <a href='vscode-notebook-cell:/c%3A/Users/SKA641/OneDrive%20-%20Maersk%20Group/Documents/Detrox/src/operator_pattern.ipynb#X35sZmlsZQ%3D%3D?line=11'>12</a>\u001b[0m \u001b[39m# print(resource)\u001b[39;00m\n\u001b[0;32m     <a href='vscode-notebook-cell:/c%3A/Users/SKA641/OneDrive%20-%20Maersk%20Group/Documents/Detrox/src/operator_pattern.ipynb#X35sZmlsZQ%3D%3D?line=12'>13</a>\u001b[0m \u001b[39m# group=\"blackadder.io\", version=\"v1alpha1\", plural=\"chaosagents\"\u001b[39;00m\n\u001b[0;32m     <a href='vscode-notebook-cell:/c%3A/Users/SKA641/OneDrive%20-%20Maersk%20Group/Documents/Detrox/src/operator_pattern.ipynb#X35sZmlsZQ%3D%3D?line=13'>14</a>\u001b[0m \u001b[39m# print(\"%s\\t\\t%s\" % (\"NAME\", \"CRON-SPEC\"))\u001b[39;00m\n\u001b[0;32m     <a href='vscode-notebook-cell:/c%3A/Users/SKA641/OneDrive%20-%20Maersk%20Group/Documents/Detrox/src/operator_pattern.ipynb#X35sZmlsZQ%3D%3D?line=14'>15</a>\u001b[0m \u001b[39m# print(f\"{resource['metadata']['name']}\\t{resource['spec']['cronSpec']}\\n\")\u001b[39;00m\n",
      "File \u001b[1;32mc:\\Users\\SKA641\\OneDrive - Maersk Group\\Documents\\Detrox\\.venv\\lib\\site-packages\\kubernetes\\client\\api\\custom_objects_api.py:1183\u001b[0m, in \u001b[0;36mCustomObjectsApi.get_cluster_custom_object\u001b[1;34m(self, group, version, plural, name, **kwargs)\u001b[0m\n\u001b[0;32m   1158\u001b[0m \u001b[39m\u001b[39m\u001b[39m\"\"\"get_cluster_custom_object  # noqa: E501\u001b[39;00m\n\u001b[0;32m   1159\u001b[0m \n\u001b[0;32m   1160\u001b[0m \u001b[39mReturns a cluster scoped custom object  # noqa: E501\u001b[39;00m\n\u001b[1;32m   (...)\u001b[0m\n\u001b[0;32m   1180\u001b[0m \u001b[39m         returns the request thread.\u001b[39;00m\n\u001b[0;32m   1181\u001b[0m \u001b[39m\"\"\"\u001b[39;00m\n\u001b[0;32m   1182\u001b[0m kwargs[\u001b[39m'\u001b[39m\u001b[39m_return_http_data_only\u001b[39m\u001b[39m'\u001b[39m] \u001b[39m=\u001b[39m \u001b[39mTrue\u001b[39;00m\n\u001b[1;32m-> 1183\u001b[0m \u001b[39mreturn\u001b[39;00m \u001b[39mself\u001b[39m\u001b[39m.\u001b[39mget_cluster_custom_object_with_http_info(group, version, plural, name, \u001b[39m*\u001b[39m\u001b[39m*\u001b[39mkwargs)\n",
      "File \u001b[1;32mc:\\Users\\SKA641\\OneDrive - Maersk Group\\Documents\\Detrox\\.venv\\lib\\site-packages\\kubernetes\\client\\api\\custom_objects_api.py:1282\u001b[0m, in \u001b[0;36mCustomObjectsApi.get_cluster_custom_object_with_http_info\u001b[1;34m(self, group, version, plural, name, **kwargs)\u001b[0m\n\u001b[0;32m   1279\u001b[0m \u001b[39m# Authentication setting\u001b[39;00m\n\u001b[0;32m   1280\u001b[0m auth_settings \u001b[39m=\u001b[39m [\u001b[39m'\u001b[39m\u001b[39mBearerToken\u001b[39m\u001b[39m'\u001b[39m]  \u001b[39m# noqa: E501\u001b[39;00m\n\u001b[1;32m-> 1282\u001b[0m \u001b[39mreturn\u001b[39;00m \u001b[39mself\u001b[39;49m\u001b[39m.\u001b[39;49mapi_client\u001b[39m.\u001b[39;49mcall_api(\n\u001b[0;32m   1283\u001b[0m     \u001b[39m'\u001b[39;49m\u001b[39m/apis/\u001b[39;49m\u001b[39m{group}\u001b[39;49;00m\u001b[39m/\u001b[39;49m\u001b[39m{version}\u001b[39;49;00m\u001b[39m/\u001b[39;49m\u001b[39m{plural}\u001b[39;49;00m\u001b[39m/\u001b[39;49m\u001b[39m{name}\u001b[39;49;00m\u001b[39m'\u001b[39;49m, \u001b[39m'\u001b[39;49m\u001b[39mGET\u001b[39;49m\u001b[39m'\u001b[39;49m,\n\u001b[0;32m   1284\u001b[0m     path_params,\n\u001b[0;32m   1285\u001b[0m     query_params,\n\u001b[0;32m   1286\u001b[0m     header_params,\n\u001b[0;32m   1287\u001b[0m     body\u001b[39m=\u001b[39;49mbody_params,\n\u001b[0;32m   1288\u001b[0m     post_params\u001b[39m=\u001b[39;49mform_params,\n\u001b[0;32m   1289\u001b[0m     files\u001b[39m=\u001b[39;49mlocal_var_files,\n\u001b[0;32m   1290\u001b[0m     response_type\u001b[39m=\u001b[39;49m\u001b[39m'\u001b[39;49m\u001b[39mobject\u001b[39;49m\u001b[39m'\u001b[39;49m,  \u001b[39m# noqa: E501\u001b[39;49;00m\n\u001b[0;32m   1291\u001b[0m     auth_settings\u001b[39m=\u001b[39;49mauth_settings,\n\u001b[0;32m   1292\u001b[0m     async_req\u001b[39m=\u001b[39;49mlocal_var_params\u001b[39m.\u001b[39;49mget(\u001b[39m'\u001b[39;49m\u001b[39masync_req\u001b[39;49m\u001b[39m'\u001b[39;49m),\n\u001b[0;32m   1293\u001b[0m     _return_http_data_only\u001b[39m=\u001b[39;49mlocal_var_params\u001b[39m.\u001b[39;49mget(\u001b[39m'\u001b[39;49m\u001b[39m_return_http_data_only\u001b[39;49m\u001b[39m'\u001b[39;49m),  \u001b[39m# noqa: E501\u001b[39;49;00m\n\u001b[0;32m   1294\u001b[0m     _preload_content\u001b[39m=\u001b[39;49mlocal_var_params\u001b[39m.\u001b[39;49mget(\u001b[39m'\u001b[39;49m\u001b[39m_preload_content\u001b[39;49m\u001b[39m'\u001b[39;49m, \u001b[39mTrue\u001b[39;49;00m),\n\u001b[0;32m   1295\u001b[0m     _request_timeout\u001b[39m=\u001b[39;49mlocal_var_params\u001b[39m.\u001b[39;49mget(\u001b[39m'\u001b[39;49m\u001b[39m_request_timeout\u001b[39;49m\u001b[39m'\u001b[39;49m),\n\u001b[0;32m   1296\u001b[0m     collection_formats\u001b[39m=\u001b[39;49mcollection_formats)\n",
      "File \u001b[1;32mc:\\Users\\SKA641\\OneDrive - Maersk Group\\Documents\\Detrox\\.venv\\lib\\site-packages\\kubernetes\\client\\api_client.py:348\u001b[0m, in \u001b[0;36mApiClient.call_api\u001b[1;34m(self, resource_path, method, path_params, query_params, header_params, body, post_params, files, response_type, auth_settings, async_req, _return_http_data_only, collection_formats, _preload_content, _request_timeout, _host)\u001b[0m\n\u001b[0;32m    311\u001b[0m \u001b[39m\u001b[39m\u001b[39m\"\"\"Makes the HTTP request (synchronous) and returns deserialized data.\u001b[39;00m\n\u001b[0;32m    312\u001b[0m \n\u001b[0;32m    313\u001b[0m \u001b[39mTo make an async_req request, set the async_req parameter.\u001b[39;00m\n\u001b[1;32m   (...)\u001b[0m\n\u001b[0;32m    345\u001b[0m \u001b[39m    then the method will return the response directly.\u001b[39;00m\n\u001b[0;32m    346\u001b[0m \u001b[39m\"\"\"\u001b[39;00m\n\u001b[0;32m    347\u001b[0m \u001b[39mif\u001b[39;00m \u001b[39mnot\u001b[39;00m async_req:\n\u001b[1;32m--> 348\u001b[0m     \u001b[39mreturn\u001b[39;00m \u001b[39mself\u001b[39;49m\u001b[39m.\u001b[39;49m__call_api(resource_path, method,\n\u001b[0;32m    349\u001b[0m                            path_params, query_params, header_params,\n\u001b[0;32m    350\u001b[0m                            body, post_params, files,\n\u001b[0;32m    351\u001b[0m                            response_type, auth_settings,\n\u001b[0;32m    352\u001b[0m                            _return_http_data_only, collection_formats,\n\u001b[0;32m    353\u001b[0m                            _preload_content, _request_timeout, _host)\n\u001b[0;32m    355\u001b[0m \u001b[39mreturn\u001b[39;00m \u001b[39mself\u001b[39m\u001b[39m.\u001b[39mpool\u001b[39m.\u001b[39mapply_async(\u001b[39mself\u001b[39m\u001b[39m.\u001b[39m__call_api, (resource_path,\n\u001b[0;32m    356\u001b[0m                                                method, path_params,\n\u001b[0;32m    357\u001b[0m                                                query_params,\n\u001b[1;32m   (...)\u001b[0m\n\u001b[0;32m    365\u001b[0m                                                _request_timeout,\n\u001b[0;32m    366\u001b[0m                                                _host))\n",
      "File \u001b[1;32mc:\\Users\\SKA641\\OneDrive - Maersk Group\\Documents\\Detrox\\.venv\\lib\\site-packages\\kubernetes\\client\\api_client.py:180\u001b[0m, in \u001b[0;36mApiClient.__call_api\u001b[1;34m(self, resource_path, method, path_params, query_params, header_params, body, post_params, files, response_type, auth_settings, _return_http_data_only, collection_formats, _preload_content, _request_timeout, _host)\u001b[0m\n\u001b[0;32m    177\u001b[0m     url \u001b[39m=\u001b[39m _host \u001b[39m+\u001b[39m resource_path\n\u001b[0;32m    179\u001b[0m \u001b[39m# perform request and return response\u001b[39;00m\n\u001b[1;32m--> 180\u001b[0m response_data \u001b[39m=\u001b[39m \u001b[39mself\u001b[39;49m\u001b[39m.\u001b[39;49mrequest(\n\u001b[0;32m    181\u001b[0m     method, url, query_params\u001b[39m=\u001b[39;49mquery_params, headers\u001b[39m=\u001b[39;49mheader_params,\n\u001b[0;32m    182\u001b[0m     post_params\u001b[39m=\u001b[39;49mpost_params, body\u001b[39m=\u001b[39;49mbody,\n\u001b[0;32m    183\u001b[0m     _preload_content\u001b[39m=\u001b[39;49m_preload_content,\n\u001b[0;32m    184\u001b[0m     _request_timeout\u001b[39m=\u001b[39;49m_request_timeout)\n\u001b[0;32m    186\u001b[0m \u001b[39mself\u001b[39m\u001b[39m.\u001b[39mlast_response \u001b[39m=\u001b[39m response_data\n\u001b[0;32m    188\u001b[0m return_data \u001b[39m=\u001b[39m response_data\n",
      "File \u001b[1;32mc:\\Users\\SKA641\\OneDrive - Maersk Group\\Documents\\Detrox\\.venv\\lib\\site-packages\\kubernetes\\client\\api_client.py:373\u001b[0m, in \u001b[0;36mApiClient.request\u001b[1;34m(self, method, url, query_params, headers, post_params, body, _preload_content, _request_timeout)\u001b[0m\n\u001b[0;32m    371\u001b[0m \u001b[39m\u001b[39m\u001b[39m\"\"\"Makes the HTTP request using RESTClient.\"\"\"\u001b[39;00m\n\u001b[0;32m    372\u001b[0m \u001b[39mif\u001b[39;00m method \u001b[39m==\u001b[39m \u001b[39m\"\u001b[39m\u001b[39mGET\u001b[39m\u001b[39m\"\u001b[39m:\n\u001b[1;32m--> 373\u001b[0m     \u001b[39mreturn\u001b[39;00m \u001b[39mself\u001b[39;49m\u001b[39m.\u001b[39;49mrest_client\u001b[39m.\u001b[39;49mGET(url,\n\u001b[0;32m    374\u001b[0m                                 query_params\u001b[39m=\u001b[39;49mquery_params,\n\u001b[0;32m    375\u001b[0m                                 _preload_content\u001b[39m=\u001b[39;49m_preload_content,\n\u001b[0;32m    376\u001b[0m                                 _request_timeout\u001b[39m=\u001b[39;49m_request_timeout,\n\u001b[0;32m    377\u001b[0m                                 headers\u001b[39m=\u001b[39;49mheaders)\n\u001b[0;32m    378\u001b[0m \u001b[39melif\u001b[39;00m method \u001b[39m==\u001b[39m \u001b[39m\"\u001b[39m\u001b[39mHEAD\u001b[39m\u001b[39m\"\u001b[39m:\n\u001b[0;32m    379\u001b[0m     \u001b[39mreturn\u001b[39;00m \u001b[39mself\u001b[39m\u001b[39m.\u001b[39mrest_client\u001b[39m.\u001b[39mHEAD(url,\n\u001b[0;32m    380\u001b[0m                                  query_params\u001b[39m=\u001b[39mquery_params,\n\u001b[0;32m    381\u001b[0m                                  _preload_content\u001b[39m=\u001b[39m_preload_content,\n\u001b[0;32m    382\u001b[0m                                  _request_timeout\u001b[39m=\u001b[39m_request_timeout,\n\u001b[0;32m    383\u001b[0m                                  headers\u001b[39m=\u001b[39mheaders)\n",
      "File \u001b[1;32mc:\\Users\\SKA641\\OneDrive - Maersk Group\\Documents\\Detrox\\.venv\\lib\\site-packages\\kubernetes\\client\\rest.py:244\u001b[0m, in \u001b[0;36mRESTClientObject.GET\u001b[1;34m(self, url, headers, query_params, _preload_content, _request_timeout)\u001b[0m\n\u001b[0;32m    242\u001b[0m \u001b[39mdef\u001b[39;00m \u001b[39mGET\u001b[39m(\u001b[39mself\u001b[39m, url, headers\u001b[39m=\u001b[39m\u001b[39mNone\u001b[39;00m, query_params\u001b[39m=\u001b[39m\u001b[39mNone\u001b[39;00m, _preload_content\u001b[39m=\u001b[39m\u001b[39mTrue\u001b[39;00m,\n\u001b[0;32m    243\u001b[0m         _request_timeout\u001b[39m=\u001b[39m\u001b[39mNone\u001b[39;00m):\n\u001b[1;32m--> 244\u001b[0m     \u001b[39mreturn\u001b[39;00m \u001b[39mself\u001b[39;49m\u001b[39m.\u001b[39;49mrequest(\u001b[39m\"\u001b[39;49m\u001b[39mGET\u001b[39;49m\u001b[39m\"\u001b[39;49m, url,\n\u001b[0;32m    245\u001b[0m                         headers\u001b[39m=\u001b[39;49mheaders,\n\u001b[0;32m    246\u001b[0m                         _preload_content\u001b[39m=\u001b[39;49m_preload_content,\n\u001b[0;32m    247\u001b[0m                         _request_timeout\u001b[39m=\u001b[39;49m_request_timeout,\n\u001b[0;32m    248\u001b[0m                         query_params\u001b[39m=\u001b[39;49mquery_params)\n",
      "File \u001b[1;32mc:\\Users\\SKA641\\OneDrive - Maersk Group\\Documents\\Detrox\\.venv\\lib\\site-packages\\kubernetes\\client\\rest.py:238\u001b[0m, in \u001b[0;36mRESTClientObject.request\u001b[1;34m(self, method, url, query_params, headers, body, post_params, _preload_content, _request_timeout)\u001b[0m\n\u001b[0;32m    235\u001b[0m     logger\u001b[39m.\u001b[39mdebug(\u001b[39m\"\u001b[39m\u001b[39mresponse body: \u001b[39m\u001b[39m%s\u001b[39;00m\u001b[39m\"\u001b[39m, r\u001b[39m.\u001b[39mdata)\n\u001b[0;32m    237\u001b[0m \u001b[39mif\u001b[39;00m \u001b[39mnot\u001b[39;00m \u001b[39m200\u001b[39m \u001b[39m<\u001b[39m\u001b[39m=\u001b[39m r\u001b[39m.\u001b[39mstatus \u001b[39m<\u001b[39m\u001b[39m=\u001b[39m \u001b[39m299\u001b[39m:\n\u001b[1;32m--> 238\u001b[0m     \u001b[39mraise\u001b[39;00m ApiException(http_resp\u001b[39m=\u001b[39mr)\n\u001b[0;32m    240\u001b[0m \u001b[39mreturn\u001b[39;00m r\n",
      "\u001b[1;31mApiException\u001b[0m: (404)\nReason: Not Found\nHTTP response headers: HTTPHeaderDict({'Audit-Id': '3a969ce9-5ede-46e8-af61-de4a1ef12da3', 'Cache-Control': 'no-cache, private', 'Content-Type': 'application/json', 'X-Kubernetes-Pf-Flowschema-Uid': '2e3c464e-36e2-4c7e-ab3b-65343e80622e', 'X-Kubernetes-Pf-Prioritylevel-Uid': '049503df-5f6a-4ddf-9c8c-b6ba625f396c', 'Date': 'Fri, 24 Nov 2023 11:44:43 GMT', 'Content-Length': '270'})\nHTTP response body: {\"kind\":\"Status\",\"apiVersion\":\"v1\",\"metadata\":{},\"status\":\"Failure\",\"message\":\"chaosagents.blackadder.io \\\"chaosagents.blackadder.io\\\" not found\",\"reason\":\"NotFound\",\"details\":{\"name\":\"chaosagents.blackadder.io\",\"group\":\"blackadder.io\",\"kind\":\"chaosagents\"},\"code\":404}\n\n"
     ]
    }
   ],
   "source": [
    "# get the cluster scoped resource\n",
    "from kubernetes import client, config\n",
    "config.load_kube_config()\n",
    "\n",
    "api1 = client.CustomObjectsApi()\n",
    "resource = api1.get_cluster_custom_object(\n",
    "    group=\"blackadder.io\",\n",
    "    version=\"v1alpha1\",\n",
    "    name=\"chaosagents.blackadder.io\",\n",
    "    plural=\"chaosagents\",\n",
    ")\n",
    "# print(resource)\n",
    "# group=\"blackadder.io\", version=\"v1alpha1\", plural=\"chaosagents\"\n",
    "# print(\"%s\\t\\t%s\" % (\"NAME\", \"CRON-SPEC\"))\n",
    "# print(f\"{resource['metadata']['name']}\\t{resource['spec']['cronSpec']}\\n\")"
   ]
  },
  {
   "cell_type": "code",
   "execution_count": null,
   "metadata": {},
   "outputs": [],
   "source": []
  },
  {
   "cell_type": "code",
   "execution_count": null,
   "metadata": {},
   "outputs": [],
   "source": []
  },
  {
   "cell_type": "code",
   "execution_count": null,
   "metadata": {},
   "outputs": [],
   "source": []
  },
  {
   "cell_type": "code",
   "execution_count": 10,
   "metadata": {},
   "outputs": [
    {
     "name": "stdout",
     "output_type": "stream",
     "text": [
      "NAME            STATUS   ROLES           AGE     VERSION\n",
      "entwickler.de   Ready    control-plane   6h41m   v1.27.4\n"
     ]
    }
   ],
   "source": [
    "!kubectl get nodes"
   ]
  },
  {
   "cell_type": "code",
   "execution_count": 10,
   "metadata": {},
   "outputs": [
    {
     "name": "stdout",
     "output_type": "stream",
     "text": [
      "customresourcedefinition.apiextensions.k8s.io/chaosagents.blackadder.io configured\n"
     ]
    }
   ],
   "source": [
    "!kubectl apply -f blackadder-v1alpha1.yml"
   ]
  },
  {
   "cell_type": "code",
   "execution_count": 11,
   "metadata": {},
   "outputs": [
    {
     "name": "stdout",
     "output_type": "stream",
     "text": [
      "chaosagent.blackadder.io/princeedmund1 configured\n"
     ]
    }
   ],
   "source": [
    "!kubectl apply -f edmund.yml"
   ]
  },
  {
   "cell_type": "code",
   "execution_count": 6,
   "metadata": {},
   "outputs": [
    {
     "name": "stdout",
     "output_type": "stream",
     "text": [
      "NAME              STATUS   AGE\n",
      "default           Active   26h\n",
      "kube-node-lease   Active   26h\n",
      "kube-public       Active   26h\n",
      "kube-system       Active   26h\n"
     ]
    }
   ],
   "source": [
    "!kubectl get namespace"
   ]
  },
  {
   "cell_type": "code",
   "execution_count": 12,
   "metadata": {},
   "outputs": [
    {
     "name": "stdout",
     "output_type": "stream",
     "text": [
      "NAME                 TYPE        CLUSTER-IP   EXTERNAL-IP   PORT(S)   AGE\n",
      "service/kubernetes   ClusterIP   10.96.0.1    <none>        443/TCP   6h41m\n"
     ]
    }
   ],
   "source": [
    "!kubectl get all -n default"
   ]
  },
  {
   "cell_type": "code",
   "execution_count": 17,
   "metadata": {},
   "outputs": [
    {
     "name": "stderr",
     "output_type": "stream",
     "text": [
      "error: the server doesn't have a resource type \"chaosagents\"\n"
     ]
    }
   ],
   "source": [
    "!kubectl get chaosagents.blackadder.io"
   ]
  },
  {
   "cell_type": "code",
   "execution_count": 19,
   "metadata": {},
   "outputs": [
    {
     "ename": "NameError",
     "evalue": "name 'connect_to_kubernetes' is not defined",
     "output_type": "error",
     "traceback": [
      "\u001b[1;31m---------------------------------------------------------------------------\u001b[0m",
      "\u001b[1;31mNameError\u001b[0m                                 Traceback (most recent call last)",
      "\u001b[1;32mc:\\Users\\SKA641\\OneDrive - Maersk Group\\Documents\\Detrox\\src\\operator_pattern.ipynb Cell 7\u001b[0m line \u001b[0;36m1\n\u001b[1;32m----> <a href='vscode-notebook-cell:/c%3A/Users/SKA641/OneDrive%20-%20Maersk%20Group/Documents/Detrox/src/operator_pattern.ipynb#W6sZmlsZQ%3D%3D?line=0'>1</a>\u001b[0m client \u001b[39m=\u001b[39m connect_to_kubernetes()\n\u001b[0;32m      <a href='vscode-notebook-cell:/c%3A/Users/SKA641/OneDrive%20-%20Maersk%20Group/Documents/Detrox/src/operator_pattern.ipynb#W6sZmlsZQ%3D%3D?line=2'>3</a>\u001b[0m \u001b[39m# retrieves our agent configuration from the kube-api-server\u001b[39;00m\n\u001b[0;32m      <a href='vscode-notebook-cell:/c%3A/Users/SKA641/OneDrive%20-%20Maersk%20Group/Documents/Detrox/src/operator_pattern.ipynb#W6sZmlsZQ%3D%3D?line=3'>4</a>\u001b[0m chaos_agent \u001b[39m=\u001b[39m client\u001b[39m.\u001b[39mget_chaos_agent()\n",
      "\u001b[1;31mNameError\u001b[0m: name 'connect_to_kubernetes' is not defined"
     ]
    }
   ],
   "source": [
    "client = connect_to_kubernetes()\n",
    "\n",
    "# retrieves our agent configuration from the kube-api-server\n",
    "chaos_agent = client.get_chaos_agent()\n",
    "\n",
    "while True:\n",
    "    pods = client.list_pods(exclude_namespaces)\n",
    "    deployments = client.list_deployments(exclude_namespaces)\n",
    "    namespaces = client.list_configmaps(exclude_namespaces)\n",
    "    if chaos_agent.tantrum:\n",
    "        randomly_kill_pods(pods, chaos_agent.tolerance, chaos_agent.eagerness)\n",
    "\n",
    "    if chaos_agent.cancer:\n",
    "        randomly_scale_deployments(deployments, chaos_agent.eagerness)\n",
    "    if chaos_agent.ipsum:\n",
    "        randomly_write_configmaps(configmaps, chaos_agent.eagerness)\n",
    "\n",
    "    time.sleep(chaos_agent.pause)"
   ]
  },
  {
   "cell_type": "code",
   "execution_count": 48,
   "metadata": {},
   "outputs": [
    {
     "name": "stdout",
     "output_type": "stream",
     "text": [
      "<pykube.http.HTTPClient object at 0x0000020CCDEE6980>\n"
     ]
    },
    {
     "ename": "AttributeError",
     "evalue": "module 'pykube' has no attribute 'object_factory'",
     "output_type": "error",
     "traceback": [
      "\u001b[1;31m---------------------------------------------------------------------------\u001b[0m",
      "\u001b[1;31mAttributeError\u001b[0m                            Traceback (most recent call last)",
      "\u001b[1;32mc:\\Users\\SKA641\\OneDrive - Maersk Group\\Documents\\Detrox\\src\\operator_pattern.ipynb Cell 19\u001b[0m line \u001b[0;36m3\n\u001b[0;32m     <a href='vscode-notebook-cell:/c%3A/Users/SKA641/OneDrive%20-%20Maersk%20Group/Documents/Detrox/src/operator_pattern.ipynb#X25sZmlsZQ%3D%3D?line=31'>32</a>\u001b[0m api \u001b[39m=\u001b[39m pykube\u001b[39m.\u001b[39mHTTPClient(config)\n\u001b[0;32m     <a href='vscode-notebook-cell:/c%3A/Users/SKA641/OneDrive%20-%20Maersk%20Group/Documents/Detrox/src/operator_pattern.ipynb#X25sZmlsZQ%3D%3D?line=32'>33</a>\u001b[0m \u001b[39mprint\u001b[39m(api)\n\u001b[1;32m---> <a href='vscode-notebook-cell:/c%3A/Users/SKA641/OneDrive%20-%20Maersk%20Group/Documents/Detrox/src/operator_pattern.ipynb#X25sZmlsZQ%3D%3D?line=34'>35</a>\u001b[0m ChaosAgent \u001b[39m=\u001b[39m pykube\u001b[39m.\u001b[39;49mobject_factory(api, \u001b[39m\"\u001b[39m\u001b[39mblackadder.io/v1alpha1\u001b[39m\u001b[39m\"\u001b[39m, \u001b[39m\"\u001b[39m\u001b[39mChaosAgent\u001b[39m\u001b[39m\"\u001b[39m)\n\u001b[0;32m     <a href='vscode-notebook-cell:/c%3A/Users/SKA641/OneDrive%20-%20Maersk%20Group/Documents/Detrox/src/operator_pattern.ipynb#X25sZmlsZQ%3D%3D?line=36'>37</a>\u001b[0m \u001b[39m# retrieves our agent configuraton from the kube-api-server\u001b[39;00m\n\u001b[0;32m     <a href='vscode-notebook-cell:/c%3A/Users/SKA641/OneDrive%20-%20Maersk%20Group/Documents/Detrox/src/operator_pattern.ipynb#X25sZmlsZQ%3D%3D?line=37'>38</a>\u001b[0m agent \u001b[39m=\u001b[39m \u001b[39mlist\u001b[39m(ChaosAgent\u001b[39m.\u001b[39mobjects(api, namespace\u001b[39m=\u001b[39mpykube\u001b[39m.\u001b[39mall))[\u001b[39m0\u001b[39m]\n",
      "\u001b[1;31mAttributeError\u001b[0m: module 'pykube' has no attribute 'object_factory'"
     ]
    }
   ],
   "source": [
    "import random\n",
    "import sys\n",
    "import time\n",
    "\n",
    "import lorem\n",
    "import munch\n",
    "import pykube\n",
    "import requests\n",
    "\n",
    "\n",
    "from pykube import Pod, Deployment, ConfigMap\n",
    "\n",
    "\n",
    "def list_objects(self, k8s_obj, exclude_namespaces):\n",
    "\n",
    "    exclude_namespaces = \",\".join(\"metadata.namespace!=\" + ns\n",
    "                                  for ns in exclude_namespaces)\n",
    "    return list(\n",
    "            k8s_obj.objects(api).filter(namespace=pykube.all,\n",
    "                                        field_selector=exclude_namespaces\n",
    "\n",
    "                                        ))\n",
    "\n",
    "\n",
    "# config = pykube.KubeConfig.from_env('~/.kube/config')\n",
    "config=pykube.KubeConfig.from_file('~/.kube/config')\n",
    "\n",
    "\n",
    "pykube.HTTPClient.list_objects = list_objects\n",
    "\n",
    "\n",
    "api = pykube.HTTPClient(config)\n",
    "print(api)\n",
    "\n",
    "ChaosAgent = pykube.object_factory(api, \"blackadder.io/v1alpha1\", \"ChaosAgent\")\n",
    "\n",
    "# retrieves our agent configuraton from the kube-api-server\n",
    "agent = list(ChaosAgent.objects(api, namespace=pykube.all))[0]\n",
    "\n",
    "agent.config = munch.munchify(agent.obj[\"spec\"])\n",
    "\n",
    "exclude_namespaces = agent.config.excludedNamespaces\n",
    "\n",
    "\n",
    "def randomly_kill_pods(pods, tolerance, eagerness):\n",
    "    if len(pods) < tolerance:\n",
    "        return\n",
    "\n",
    "    for p in pods:\n",
    "        if random.randint(0, 100) < eagerness:\n",
    "            p.delete()\n",
    "            print(f\"Deleted {p.namespace}/{p.name}\",)\n",
    "\n",
    "\n",
    "def randomly_scale_deployments(deployments, eagerness):\n",
    "    for d in deployments:\n",
    "        if random.randint(0, 100) < eagerness:\n",
    "            while True:\n",
    "                try:\n",
    "                    if d.replicas < 128:\n",
    "                        d.replicas = min(d.replicas * 2, 128)\n",
    "                    d.update()\n",
    "                    print(f\"scaled {d.namespace}/{d.name} to {d.replicas}\",)\n",
    "                    break\n",
    "                except (requests.exceptions.HTTPError, pykube.exceptions.HTTPError):\n",
    "                    print(\n",
    "                        f\"error scaling {d.namespace}/{d.name} to {d.replicas}\",)\n",
    "                    d.reload()\n",
    "                    continue\n",
    "\n",
    "\n",
    "def randomly_write_configmaps(configmaps, eagerness):\n",
    "    for cm in configmaps:\n",
    "        print(f\"Checking {cm.namespace}/{cm.name}\")\n",
    "        if cm.obj.get(\"immutable\"):\n",
    "            continue\n",
    "\n",
    "        if random.randint(0, 100) < eagerness:\n",
    "            for k, v in cm.obj[\"data\"].items():\n",
    "                cm.obj[\"data\"][k] = lorem.paragraph()\n",
    "\n",
    "            print(f\"Lorem Impsum in {cm.namespace}/{cm.name}\",)\n",
    "\n",
    "\n",
    "def main():\n",
    "    while True:\n",
    "        pods = api.list_objects(Pod, exclude_namespaces)\n",
    "        deployments = api.list_objects(Deployment, exclude_namespaces)\n",
    "        configmaps = api.list_objects(ConfigMap, exclude_namespaces)\n",
    "\n",
    "        if agent.config.tantrumMode:\n",
    "            randomly_kill_pods(pods,\n",
    "                               agent.config.podTolerance,\n",
    "                               agent.config.eagerness)\n",
    "\n",
    "        if agent.config.cancerMode:\n",
    "            randomly_scale_deployments(deployments,\n",
    "                                       agent.config.eagerness)\n",
    "\n",
    "        if agent.config.ipsumMode:\n",
    "            randomly_write_configmaps(configmaps,\n",
    "                                      agent.config.eagerness)\n",
    "\n",
    "        time.sleep(agent.config.pauseDuration)\n",
    "\n",
    "\n",
    "if __name__ == \"__main__\":\n",
    "    print(\"This is the blackadder version 0.1.1\")\n",
    "    print(\"Ready to start a havoc in your cluster\")\n",
    "    main()"
   ]
  },
  {
   "cell_type": "code",
   "execution_count": 22,
   "metadata": {},
   "outputs": [
    {
     "name": "stdout",
     "output_type": "stream",
     "text": [
      "Collecting lorem\n",
      "  Downloading lorem-0.1.1-py3-none-any.whl (5.0 kB)\n",
      "Installing collected packages: lorem\n",
      "Successfully installed lorem-0.1.1\n",
      "Note: you may need to restart the kernel to use updated packages.\n"
     ]
    },
    {
     "name": "stderr",
     "output_type": "stream",
     "text": [
      "\n",
      "[notice] A new release of pip is available: 23.1.2 -> 23.3.1\n",
      "[notice] To update, run: python.exe -m pip install --upgrade pip\n"
     ]
    }
   ],
   "source": [
    "pip install lorem "
   ]
  },
  {
   "cell_type": "code",
   "execution_count": 24,
   "metadata": {},
   "outputs": [
    {
     "name": "stdout",
     "output_type": "stream",
     "text": [
      "Collecting munch\n",
      "  Downloading munch-4.0.0-py2.py3-none-any.whl (9.9 kB)\n",
      "Installing collected packages: munch\n",
      "Successfully installed munch-4.0.0\n",
      "Note: you may need to restart the kernel to use updated packages.\n"
     ]
    },
    {
     "name": "stderr",
     "output_type": "stream",
     "text": [
      "\n",
      "[notice] A new release of pip is available: 23.1.2 -> 23.3.1\n",
      "[notice] To update, run: python.exe -m pip install --upgrade pip\n"
     ]
    }
   ],
   "source": [
    "pip install munch"
   ]
  },
  {
   "cell_type": "code",
   "execution_count": 6,
   "metadata": {},
   "outputs": [
    {
     "name": "stdout",
     "output_type": "stream",
     "text": [
      "Collecting pykube\n",
      "  Using cached pykube-0.15.0-py2.py3-none-any.whl (23 kB)\n",
      "Requirement already satisfied: PyYAML in c:\\users\\ska641\\onedrive - maersk group\\documents\\detrox\\.venv\\lib\\site-packages (from pykube) (6.0)\n",
      "Requirement already satisfied: oauth2client in c:\\users\\ska641\\onedrive - maersk group\\documents\\detrox\\.venv\\lib\\site-packages (from pykube) (4.1.3)\n",
      "Requirement already satisfied: requests>=2.12 in c:\\users\\ska641\\onedrive - maersk group\\documents\\detrox\\.venv\\lib\\site-packages (from pykube) (2.31.0)\n",
      "Requirement already satisfied: requests-oauthlib in c:\\users\\ska641\\onedrive - maersk group\\documents\\detrox\\.venv\\lib\\site-packages (from pykube) (1.3.1)\n",
      "Requirement already satisfied: six>=1.10.0 in c:\\users\\ska641\\onedrive - maersk group\\documents\\detrox\\.venv\\lib\\site-packages (from pykube) (1.16.0)\n",
      "Requirement already satisfied: tzlocal in c:\\users\\ska641\\onedrive - maersk group\\documents\\detrox\\.venv\\lib\\site-packages (from pykube) (5.2)\n",
      "Requirement already satisfied: charset-normalizer<4,>=2 in c:\\users\\ska641\\onedrive - maersk group\\documents\\detrox\\.venv\\lib\\site-packages (from requests>=2.12->pykube) (3.1.0)\n",
      "Requirement already satisfied: idna<4,>=2.5 in c:\\users\\ska641\\onedrive - maersk group\\documents\\detrox\\.venv\\lib\\site-packages (from requests>=2.12->pykube) (3.4)\n",
      "Requirement already satisfied: urllib3<3,>=1.21.1 in c:\\users\\ska641\\onedrive - maersk group\\documents\\detrox\\.venv\\lib\\site-packages (from requests>=2.12->pykube) (1.26.16)\n",
      "Requirement already satisfied: certifi>=2017.4.17 in c:\\users\\ska641\\onedrive - maersk group\\documents\\detrox\\.venv\\lib\\site-packages (from requests>=2.12->pykube) (2023.5.7)\n",
      "Requirement already satisfied: httplib2>=0.9.1 in c:\\users\\ska641\\onedrive - maersk group\\documents\\detrox\\.venv\\lib\\site-packages (from oauth2client->pykube) (0.22.0)\n",
      "Requirement already satisfied: pyasn1>=0.1.7 in c:\\users\\ska641\\onedrive - maersk group\\documents\\detrox\\.venv\\lib\\site-packages (from oauth2client->pykube) (0.5.0)\n",
      "Requirement already satisfied: pyasn1-modules>=0.0.5 in c:\\users\\ska641\\onedrive - maersk group\\documents\\detrox\\.venv\\lib\\site-packages (from oauth2client->pykube) (0.3.0)\n",
      "Requirement already satisfied: rsa>=3.1.4 in c:\\users\\ska641\\onedrive - maersk group\\documents\\detrox\\.venv\\lib\\site-packages (from oauth2client->pykube) (4.9)\n",
      "Requirement already satisfied: oauthlib>=3.0.0 in c:\\users\\ska641\\onedrive - maersk group\\documents\\detrox\\.venv\\lib\\site-packages (from requests-oauthlib->pykube) (3.2.2)\n",
      "Requirement already satisfied: tzdata in c:\\users\\ska641\\onedrive - maersk group\\documents\\detrox\\.venv\\lib\\site-packages (from tzlocal->pykube) (2023.3)\n",
      "Requirement already satisfied: pyparsing!=3.0.0,!=3.0.1,!=3.0.2,!=3.0.3,<4,>=2.4.2 in c:\\users\\ska641\\onedrive - maersk group\\documents\\detrox\\.venv\\lib\\site-packages (from httplib2>=0.9.1->oauth2client->pykube) (3.1.0)\n",
      "Installing collected packages: pykube\n",
      "Successfully installed pykube-0.15.0\n",
      "Note: you may need to restart the kernel to use updated packages.\n"
     ]
    },
    {
     "name": "stderr",
     "output_type": "stream",
     "text": [
      "\n",
      "[notice] A new release of pip is available: 23.1.2 -> 23.3.1\n",
      "[notice] To update, run: python.exe -m pip install --upgrade pip\n"
     ]
    }
   ],
   "source": [
    "pip install pykube"
   ]
  },
  {
   "cell_type": "code",
   "execution_count": 3,
   "metadata": {},
   "outputs": [
    {
     "name": "stdout",
     "output_type": "stream",
     "text": [
      "Requirement already satisfied: pykube-ng in c:\\users\\ska641\\onedrive - maersk group\\documents\\detrox\\.venv\\lib\\site-packages (23.6.0)\n",
      "Requirement already satisfied: pyyaml in c:\\users\\ska641\\onedrive - maersk group\\documents\\detrox\\.venv\\lib\\site-packages (from pykube-ng) (6.0)\n",
      "Requirement already satisfied: requests>=2.12 in c:\\users\\ska641\\onedrive - maersk group\\documents\\detrox\\.venv\\lib\\site-packages (from pykube-ng) (2.31.0)\n",
      "Requirement already satisfied: urllib3>=1.26.9 in c:\\users\\ska641\\onedrive - maersk group\\documents\\detrox\\.venv\\lib\\site-packages (from pykube-ng) (1.26.16)\n",
      "Requirement already satisfied: charset-normalizer<4,>=2 in c:\\users\\ska641\\onedrive - maersk group\\documents\\detrox\\.venv\\lib\\site-packages (from requests>=2.12->pykube-ng) (3.1.0)\n",
      "Requirement already satisfied: idna<4,>=2.5 in c:\\users\\ska641\\onedrive - maersk group\\documents\\detrox\\.venv\\lib\\site-packages (from requests>=2.12->pykube-ng) (3.4)\n",
      "Requirement already satisfied: certifi>=2017.4.17 in c:\\users\\ska641\\onedrive - maersk group\\documents\\detrox\\.venv\\lib\\site-packages (from requests>=2.12->pykube-ng) (2023.5.7)\n",
      "Note: you may need to restart the kernel to use updated packages.\n"
     ]
    },
    {
     "name": "stderr",
     "output_type": "stream",
     "text": [
      "\n",
      "[notice] A new release of pip is available: 23.1.2 -> 23.3.1\n",
      "[notice] To update, run: python.exe -m pip install --upgrade pip\n"
     ]
    }
   ],
   "source": [
    "pip install pykube-ng"
   ]
  },
  {
   "cell_type": "code",
   "execution_count": 34,
   "metadata": {},
   "outputs": [
    {
     "name": "stdout",
     "output_type": "stream",
     "text": [
      "^C\n"
     ]
    }
   ],
   "source": [
    "!pip uninstall pykube"
   ]
  },
  {
   "cell_type": "code",
   "execution_count": null,
   "metadata": {},
   "outputs": [],
   "source": []
  }
 ],
 "metadata": {
  "kernelspec": {
   "display_name": ".venv",
   "language": "python",
   "name": "python3"
  },
  "language_info": {
   "codemirror_mode": {
    "name": "ipython",
    "version": 3
   },
   "file_extension": ".py",
   "mimetype": "text/x-python",
   "name": "python",
   "nbconvert_exporter": "python",
   "pygments_lexer": "ipython3",
   "version": "3.10.2"
  }
 },
 "nbformat": 4,
 "nbformat_minor": 2
}
